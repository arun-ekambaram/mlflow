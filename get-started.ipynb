{
 "cells": [
  {
   "cell_type": "markdown",
   "metadata": {},
   "source": [
    "## MLFlow Tracking Server"
   ]
  },
  {
   "cell_type": "code",
   "execution_count": 2,
   "metadata": {},
   "outputs": [],
   "source": [
    "import mlflow"
   ]
  },
  {
   "cell_type": "code",
   "execution_count": 3,
   "metadata": {},
   "outputs": [],
   "source": [
    "mlflow.set_tracking_uri(\"http://127.0.0.1:5000\")"
   ]
  },
  {
   "cell_type": "code",
   "execution_count": 5,
   "metadata": {},
   "outputs": [
    {
     "name": "stderr",
     "output_type": "stream",
     "text": [
      "2024/10/16 14:50:52 INFO mlflow.tracking.fluent: Experiment with name 'Check localhost connection' does not exist. Creating a new experiment.\n",
      "2024/10/16 14:50:52 INFO mlflow.tracking._tracking_service.client: 🏃 View run calm-snake-35 at: http://127.0.0.1:5000/#/experiments/965495241901212065/runs/0f8a340d35694f8ab696fcc0a15690bf.\n",
      "2024/10/16 14:50:52 INFO mlflow.tracking._tracking_service.client: 🧪 View experiment at: http://127.0.0.1:5000/#/experiments/965495241901212065.\n"
     ]
    }
   ],
   "source": [
    "mlflow.set_experiment(\"Check localhost connection\")\n",
    "\n",
    "with mlflow.start_run():\n",
    "    mlflow.log_metric(\"test\", 1)\n",
    "    mlflow.log_metric(\"arun\", 2)\n"
   ]
  },
  {
   "cell_type": "code",
   "execution_count": 6,
   "metadata": {},
   "outputs": [
    {
     "name": "stderr",
     "output_type": "stream",
     "text": [
      "2024/10/16 14:53:40 INFO mlflow.tracking._tracking_service.client: 🏃 View run awesome-zebra-840 at: http://127.0.0.1:5000/#/experiments/965495241901212065/runs/5f977e6409364e05b6e6cb74f6477b41.\n",
      "2024/10/16 14:53:40 INFO mlflow.tracking._tracking_service.client: 🧪 View experiment at: http://127.0.0.1:5000/#/experiments/965495241901212065.\n"
     ]
    }
   ],
   "source": [
    "with mlflow.start_run():\n",
    "    mlflow.log_metric(\"test1\", 1)\n",
    "    mlflow.log_metric(\"arun1\", 2)"
   ]
  },
  {
   "cell_type": "code",
   "execution_count": 7,
   "metadata": {},
   "outputs": [
    {
     "name": "stderr",
     "output_type": "stream",
     "text": [
      "2024/10/16 15:09:59 INFO mlflow.tracking._tracking_service.client: 🏃 View run spiffy-smelt-833 at: http://127.0.0.1:5000/#/experiments/965495241901212065/runs/d201015c05c24bfe8683a92dc4bdedd1.\n",
      "2024/10/16 15:09:59 INFO mlflow.tracking._tracking_service.client: 🧪 View experiment at: http://127.0.0.1:5000/#/experiments/965495241901212065.\n"
     ]
    }
   ],
   "source": [
    "with mlflow.start_run():\n",
    "    mlflow.log_metric(\"test2\", 1)\n",
    "    mlflow.log_metric(\"arun2\", 2)"
   ]
  },
  {
   "cell_type": "code",
   "execution_count": null,
   "metadata": {},
   "outputs": [],
   "source": []
  }
 ],
 "metadata": {
  "kernelspec": {
   "display_name": "mlflow",
   "language": "python",
   "name": "python3"
  },
  "language_info": {
   "codemirror_mode": {
    "name": "ipython",
    "version": 3
   },
   "file_extension": ".py",
   "mimetype": "text/x-python",
   "name": "python",
   "nbconvert_exporter": "python",
   "pygments_lexer": "ipython3",
   "version": "3.10.14"
  }
 },
 "nbformat": 4,
 "nbformat_minor": 2
}
